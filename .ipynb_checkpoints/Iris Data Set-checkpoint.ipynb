{
 "cells": [
  {
   "cell_type": "markdown",
   "metadata": {},
   "source": [
    "# Iris Data Set\n",
    "\n",
    "This data sets consists of 3 different types of irises’ (Setosa, Versicolour, and Virginica) petal and sepal length, stored in a 150x4 numpy.ndarray. <br/>\n",
    "The rows being the samples and the columns being: Sepal Length, Sepal Width, Petal Length and Petal Width.<br/>\n",
    "The below plot uses the first two features. See here for more information on this dataset.\n",
    "\n"
   ]
  },
  {
   "cell_type": "code",
   "execution_count": null,
   "metadata": {
    "collapsed": true
   },
   "outputs": [],
   "source": [
    "import matplotlib.pyplot as plt\n",
    "import numpy as np\n",
    "import csv"
   ]
  },
  {
   "cell_type": "markdown",
   "metadata": {},
   "source": [
    "First we will declare the Arrays"
   ]
  },
  {
   "cell_type": "code",
   "execution_count": null,
   "metadata": {
    "collapsed": true
   },
   "outputs": [],
   "source": [
    "sepalLenghts =[]\n",
    "sepalWidths = []\n",
    "petalLenghts =[]\n",
    "petalWidths = []\n",
    "species = []"
   ]
  },
  {
   "cell_type": "markdown",
   "metadata": {},
   "source": [
    "Then we will import the CSV file"
   ]
  },
  {
   "cell_type": "code",
   "execution_count": null,
   "metadata": {
    "collapsed": true
   },
   "outputs": [],
   "source": [
    "with open ('IRIS.csv') as irisCSV:\n",
    "    readCSV = csv.reader(irisCSV, delimiter =',')\n",
    "\n",
    "    for row in readCSV:\n",
    "        sepalLenght = row[0]\n",
    "        sepalWidth = row[2]\n",
    "        petalLenght = row[6]\n",
    "        specie = row[8]\n",
    "        \n",
    "        sepalLenghts.append(sepalLenght)\n",
    "        sepalWidths.append(sepalWidths)\n",
    "        petalLenghts.append(petalLenght)\n",
    "        petalWidths.append(petalWidth)\n",
    "        species.append(species)\n",
    "        "
   ]
  },
  {
   "cell_type": "markdown",
   "metadata": {},
   "source": [
    "Now to define the plot"
   ]
  },
  {
   "cell_type": "code",
   "execution_count": null,
   "metadata": {
    "collapsed": true
   },
   "outputs": [],
   "source": [
    "plt.scatter(sepalLenghts,sepalWidths, lable='IRISScatter', color = 'b')\n",
    "\n",
    "plt.xlabel('SepalLenghts')\n",
    "plt.ylabel('SepalWidths')\n",
    "plt.title('Super Awesome Title for IRIS Graph')\n",
    "plt.legend()\n",
    "plt.show()"
   ]
  },
  {
   "cell_type": "code",
   "execution_count": null,
   "metadata": {
    "collapsed": true
   },
   "outputs": [],
   "source": []
  }
 ],
 "metadata": {
  "kernelspec": {
   "display_name": "Python 3",
   "language": "python",
   "name": "python3"
  },
  "language_info": {
   "codemirror_mode": {
    "name": "ipython",
    "version": 3
   },
   "file_extension": ".py",
   "mimetype": "text/x-python",
   "name": "python",
   "nbconvert_exporter": "python",
   "pygments_lexer": "ipython3",
   "version": "3.6.2"
  }
 },
 "nbformat": 4,
 "nbformat_minor": 2
}
